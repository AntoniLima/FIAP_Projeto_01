{
 "cells": [
  {
   "cell_type": "code",
   "execution_count": 2,
   "metadata": {},
   "outputs": [],
   "source": [
    "import pandas as pd\n",
    "import numpy as np\n",
    "from unidecode import unidecode\n",
    "import os\n",
    "\n",
    "# from embrapa_api.preprocessing.preprocessors import BasePreprocessor\n",
    "from embrapa_api.config import CSV_FILES_FOLDER\n",
    "from embrapa_api.preprocessing.constants import IMPORTACAO_PATHS"
   ]
  },
  {
   "cell_type": "code",
   "execution_count": 3,
   "metadata": {},
   "outputs": [
    {
     "data": {
      "text/plain": [
       "{'Vinhos': {'url': 'http://vitibrasil.cnpuv.embrapa.br/download/ImpVinhos.csv',\n",
       "  'path': '/Users/mauricioaraujo/Eng_ML/FIAP/Tech Challenges/FIAP_Projeto_01/data/csv_files/importacao/ImpVinhos.csv'},\n",
       " 'Sucos': {'url': 'http://vitibrasil.cnpuv.embrapa.br/download/ImpSuco.csv',\n",
       "  'path': '/Users/mauricioaraujo/Eng_ML/FIAP/Tech Challenges/FIAP_Projeto_01/data/csv_files/importacao/ImpSuco.csv'},\n",
       " 'Espumantes': {'url': 'http://vitibrasil.cnpuv.embrapa.br/download/ImpEspumantes.csv',\n",
       "  'path': '/Users/mauricioaraujo/Eng_ML/FIAP/Tech Challenges/FIAP_Projeto_01/data/csv_files/importacao/ImpEspumantes.csv'},\n",
       " 'Frescas': {'url': 'http://vitibrasil.cnpuv.embrapa.br/download/ImpFrescas.csv',\n",
       "  'path': '/Users/mauricioaraujo/Eng_ML/FIAP/Tech Challenges/FIAP_Projeto_01/data/csv_files/importacao/ImpFrescas.csv'},\n",
       " 'Passas': {'url': 'http://vitibrasil.cnpuv.embrapa.br/download/ImpPassas.csv',\n",
       "  'path': '/Users/mauricioaraujo/Eng_ML/FIAP/Tech Challenges/FIAP_Projeto_01/data/csv_files/importacao/ImpPassas.csv'}}"
      ]
     },
     "execution_count": 3,
     "metadata": {},
     "output_type": "execute_result"
    }
   ],
   "source": [
    "IMPORTACAO_PATHS"
   ]
  },
  {
   "cell_type": "code",
   "execution_count": null,
   "metadata": {},
   "outputs": [],
   "source": [
    "try:\n",
    "    2 + \"2\"\n",
    "    data = (\n",
    "        pd.read_csv(\n",
    "            'http://vitibrasil.cnpuv.embrapa.br/download/ImpVinhos.csv',\n",
    "            sep=';'\n",
    "        )\n",
    "    )\n",
    "except Exception as e:\n",
    "    data = pd.read_csv(\n",
    "        os.path.join(CSV_FILES_FOLDER, 'comercializacao_vinho/Comercio.csv'),\n",
    "        sep=';'\n",
    "    )\n",
    "    print(e) # trocar por logging"
   ]
  }
 ],
 "metadata": {
  "kernelspec": {
   "display_name": "fiap",
   "language": "python",
   "name": "python3"
  },
  "language_info": {
   "codemirror_mode": {
    "name": "ipython",
    "version": 3
   },
   "file_extension": ".py",
   "mimetype": "text/x-python",
   "name": "python",
   "nbconvert_exporter": "python",
   "pygments_lexer": "ipython3",
   "version": "3.10.14"
  }
 },
 "nbformat": 4,
 "nbformat_minor": 2
}
